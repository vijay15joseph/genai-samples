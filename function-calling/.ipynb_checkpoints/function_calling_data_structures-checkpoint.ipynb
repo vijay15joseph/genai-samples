{
 "cells": [
  {
   "cell_type": "code",
   "execution_count": 1,
   "metadata": {
    "id": "ijGzTHJJUCPY",
    "tags": []
   },
   "outputs": [],
   "source": [
    "# Copyright 2024 Google LLC\n",
    "#\n",
    "# Licensed under the Apache License, Version 2.0 (the \"License\");\n",
    "# you may not use this file except in compliance with the License.\n",
    "# You may obtain a copy of the License at\n",
    "#\n",
    "#     https://www.apache.org/licenses/LICENSE-2.0\n",
    "#\n",
    "# Unless required by applicable law or agreed to in writing, software\n",
    "# distributed under the License is distributed on an \"AS IS\" BASIS,\n",
    "# WITHOUT WARRANTIES OR CONDITIONS OF ANY KIND, either express or implied.\n",
    "# See the License for the specific language governing permissions and\n",
    "# limitations under the License."
   ]
  },
  {
   "cell_type": "markdown",
   "metadata": {
    "id": "VEqbX8OhE8y9"
   },
   "source": [
    "# Working with Data Structures and Schemas in Gemini Function Calling\n",
    "\n",
    "<table align=\"left\">\n",
    "  <td style=\"text-align: center\">\n",
    "    <a href=\"https://colab.research.google.com/github/GoogleCloudPlatform/generative-ai/blob/main/gemini/function-calling/function_calling_data_structures.ipynb\">\n",
    "      <img src=\"https://cloud.google.com/ml-engine/images/colab-logo-32px.png\" alt=\"Google Colaboratory logo\"><br> Open in Colab\n",
    "    </a>\n",
    "  </td>\n",
    "  <td style=\"text-align: center\">\n",
    "    <a href=\"https://console.cloud.google.com/vertex-ai/colab/import/https:%2F%2Fraw.githubusercontent.com%2FGoogleCloudPlatform%2Fgenerative-ai%2Fmain%2Fgemini%2Ffunction-calling%2Ffunction_calling_data_structures.ipynb\">\n",
    "      <img width=\"32px\" src=\"https://lh3.googleusercontent.com/JmcxdQi-qOpctIvWKgPtrzZdJJK-J3sWE1RsfjZNwshCFgE_9fULcNpuXYTilIR2hjwN\" alt=\"Google Cloud Colab Enterprise logo\"><br> Open in Colab Enterprise\n",
    "    </a>\n",
    "  </td>    \n",
    "  <td style=\"text-align: center\">\n",
    "    <a href=\"https://console.cloud.google.com/vertex-ai/workbench/deploy-notebook?download_url=https://raw.githubusercontent.com/GoogleCloudPlatform/generative-ai/main/gemini/function-calling/notebook_template.ipynb\">\n",
    "      <img src=\"https://lh3.googleusercontent.com/UiNooY4LUgW_oTvpsNhPpQzsstV5W8F7rYgxgGBD85cWJoLmrOzhVs_ksK_vgx40SHs7jCqkTkCk=e14-rj-sc0xffffff-h130-w32\" alt=\"Vertex AI logo\"><br> Open in Workbench\n",
    "    </a>\n",
    "  </td>\n",
    "  <td style=\"text-align: center\">\n",
    "    <a href=\"https://github.com/GoogleCloudPlatform/generative-ai/blob/main/gemini/function-calling/notebook_template.ipynb\">\n",
    "      <img src=\"https://cloud.google.com/ml-engine/images/github-logo-32px.png\" alt=\"GitHub logo\"><br> View on GitHub\n",
    "    </a>\n",
    "  </td>\n",
    "</table>"
   ]
  },
  {
   "cell_type": "markdown",
   "metadata": {
    "id": "ZNJC1SkrsJY3"
   },
   "source": [
    "| | |\n",
    "|-|-|\n",
    "|Author(s) | [Kristopher Overholt](https://github.com/koverholt) |"
   ]
  },
  {
   "cell_type": "markdown",
   "metadata": {
    "id": "CkHPv2myT2cx"
   },
   "source": [
    "## Overview\n",
    "\n",
    "Gemini is a family of generative AI models developed by Google DeepMind that is designed for multimodal use cases. The Gemini API gives you access to the Gemini Pro and Gemini Pro Vision models.\n",
    "\n",
    "[Function Calling](https://cloud.google.com/vertex-ai/docs/generative-ai/multimodal/function-calling) in Gemini lets you create a description of a function in your code, then pass that description to a language model in a request. The response from the model includes the name of a function that matches the description and the arguments to call it with.\n",
    "\n",
    "In this tutorial, you'll learn how to work with various data structures within Gemini Function Calling, including:\n",
    "    \n",
    "- Single parameter\n",
    "- Multiple parameters\n",
    "- Lists of parameters\n",
    "- Nested parameters and data structures"
   ]
  },
  {
   "cell_type": "markdown",
   "metadata": {
    "id": "r11Gu7qNgx1p"
   },
   "source": [
    "## Getting Started\n"
   ]
  },
  {
   "cell_type": "markdown",
   "metadata": {
    "id": "No17Cw5hgx12"
   },
   "source": [
    "### Install Vertex AI SDK and other required packages"
   ]
  },
  {
   "cell_type": "code",
   "execution_count": 2,
   "metadata": {
    "id": "tFy3H3aPgx12",
    "tags": []
   },
   "outputs": [
    {
     "name": "stdout",
     "output_type": "stream",
     "text": [
      "\u001b[33mWARNING: Ignoring invalid distribution -oogle-api-core (/opt/conda/lib/python3.10/site-packages)\u001b[0m\u001b[33m\n",
      "\u001b[0mRequirement already satisfied: google-cloud-aiplatform in /home/jupyter/.local/lib/python3.10/site-packages (1.50.0)\n",
      "Requirement already satisfied: google-api-core[grpc]!=2.0.*,!=2.1.*,!=2.2.*,!=2.3.*,!=2.4.*,!=2.5.*,!=2.6.*,!=2.7.*,<3.0.0dev,>=1.34.1 in /opt/conda/lib/python3.10/site-packages (from google-cloud-aiplatform) (2.18.0)\n",
      "Requirement already satisfied: google-auth<3.0.0dev,>=2.14.1 in /opt/conda/lib/python3.10/site-packages (from google-cloud-aiplatform) (2.22.0)\n",
      "Requirement already satisfied: proto-plus<2.0.0dev,>=1.22.0 in /opt/conda/lib/python3.10/site-packages (from google-cloud-aiplatform) (1.22.3)\n",
      "Requirement already satisfied: protobuf!=3.20.0,!=3.20.1,!=4.21.0,!=4.21.1,!=4.21.2,!=4.21.3,!=4.21.4,!=4.21.5,<5.0.0dev,>=3.19.5 in /opt/conda/lib/python3.10/site-packages (from google-cloud-aiplatform) (3.20.3)\n",
      "Requirement already satisfied: packaging>=14.3 in /home/jupyter/.local/lib/python3.10/site-packages (from google-cloud-aiplatform) (21.3)\n",
      "Requirement already satisfied: google-cloud-storage<3.0.0dev,>=1.32.0 in /home/jupyter/.local/lib/python3.10/site-packages (from google-cloud-aiplatform) (1.44.0)\n",
      "Requirement already satisfied: google-cloud-bigquery!=3.20.0,<4.0.0dev,>=1.15.0 in /home/jupyter/.local/lib/python3.10/site-packages (from google-cloud-aiplatform) (2.34.4)\n",
      "Requirement already satisfied: google-cloud-resource-manager<3.0.0dev,>=1.3.3 in /opt/conda/lib/python3.10/site-packages (from google-cloud-aiplatform) (1.10.3)\n",
      "Requirement already satisfied: shapely<3.0.0dev in /opt/conda/lib/python3.10/site-packages (from google-cloud-aiplatform) (1.8.5.post1)\n",
      "Requirement already satisfied: pydantic<3 in /home/jupyter/.local/lib/python3.10/site-packages (from google-cloud-aiplatform) (1.10.14)\n",
      "Requirement already satisfied: docstring-parser<1 in /opt/conda/lib/python3.10/site-packages (from google-cloud-aiplatform) (0.15)\n",
      "Requirement already satisfied: googleapis-common-protos<2.0.dev0,>=1.56.2 in /opt/conda/lib/python3.10/site-packages (from google-api-core[grpc]!=2.0.*,!=2.1.*,!=2.2.*,!=2.3.*,!=2.4.*,!=2.5.*,!=2.6.*,!=2.7.*,<3.0.0dev,>=1.34.1->google-cloud-aiplatform) (1.60.0)\n",
      "Requirement already satisfied: requests<3.0.0.dev0,>=2.18.0 in /opt/conda/lib/python3.10/site-packages (from google-api-core[grpc]!=2.0.*,!=2.1.*,!=2.2.*,!=2.3.*,!=2.4.*,!=2.5.*,!=2.6.*,!=2.7.*,<3.0.0dev,>=1.34.1->google-cloud-aiplatform) (2.31.0)\n",
      "Requirement already satisfied: grpcio<2.0dev,>=1.33.2 in /opt/conda/lib/python3.10/site-packages (from google-api-core[grpc]!=2.0.*,!=2.1.*,!=2.2.*,!=2.3.*,!=2.4.*,!=2.5.*,!=2.6.*,!=2.7.*,<3.0.0dev,>=1.34.1->google-cloud-aiplatform) (1.57.0)\n",
      "Requirement already satisfied: grpcio-status<2.0.dev0,>=1.33.2 in /opt/conda/lib/python3.10/site-packages (from google-api-core[grpc]!=2.0.*,!=2.1.*,!=2.2.*,!=2.3.*,!=2.4.*,!=2.5.*,!=2.6.*,!=2.7.*,<3.0.0dev,>=1.34.1->google-cloud-aiplatform) (1.48.2)\n",
      "Requirement already satisfied: cachetools<6.0,>=2.0.0 in /opt/conda/lib/python3.10/site-packages (from google-auth<3.0.0dev,>=2.14.1->google-cloud-aiplatform) (5.3.1)\n",
      "Requirement already satisfied: pyasn1-modules>=0.2.1 in /opt/conda/lib/python3.10/site-packages (from google-auth<3.0.0dev,>=2.14.1->google-cloud-aiplatform) (0.3.0)\n",
      "Requirement already satisfied: rsa<5,>=3.1.4 in /opt/conda/lib/python3.10/site-packages (from google-auth<3.0.0dev,>=2.14.1->google-cloud-aiplatform) (4.9)\n",
      "Requirement already satisfied: six>=1.9.0 in /opt/conda/lib/python3.10/site-packages (from google-auth<3.0.0dev,>=2.14.1->google-cloud-aiplatform) (1.16.0)\n",
      "Requirement already satisfied: urllib3<2.0 in /opt/conda/lib/python3.10/site-packages (from google-auth<3.0.0dev,>=2.14.1->google-cloud-aiplatform) (1.26.16)\n",
      "Requirement already satisfied: google-cloud-core<3.0.0dev,>=1.4.1 in /opt/conda/lib/python3.10/site-packages (from google-cloud-bigquery!=3.20.0,<4.0.0dev,>=1.15.0->google-cloud-aiplatform) (2.3.3)\n",
      "Requirement already satisfied: google-resumable-media<3.0dev,>=0.6.0 in /opt/conda/lib/python3.10/site-packages (from google-cloud-bigquery!=3.20.0,<4.0.0dev,>=1.15.0->google-cloud-aiplatform) (2.5.0)\n",
      "Requirement already satisfied: python-dateutil<3.0dev,>=2.7.2 in /opt/conda/lib/python3.10/site-packages (from google-cloud-bigquery!=3.20.0,<4.0.0dev,>=1.15.0->google-cloud-aiplatform) (2.8.2)\n",
      "Requirement already satisfied: grpc-google-iam-v1<1.0.0dev,>=0.12.4 in /opt/conda/lib/python3.10/site-packages (from google-cloud-resource-manager<3.0.0dev,>=1.3.3->google-cloud-aiplatform) (0.12.6)\n",
      "Requirement already satisfied: pyparsing!=3.0.5,>=2.0.2 in /opt/conda/lib/python3.10/site-packages (from packaging>=14.3->google-cloud-aiplatform) (3.0.9)\n",
      "Requirement already satisfied: typing-extensions>=4.2.0 in /home/jupyter/.local/lib/python3.10/site-packages (from pydantic<3->google-cloud-aiplatform) (4.5.0)\n",
      "Requirement already satisfied: google-crc32c<2.0dev,>=1.0 in /opt/conda/lib/python3.10/site-packages (from google-resumable-media<3.0dev,>=0.6.0->google-cloud-bigquery!=3.20.0,<4.0.0dev,>=1.15.0->google-cloud-aiplatform) (1.5.0)\n",
      "Requirement already satisfied: pyasn1<0.6.0,>=0.4.6 in /opt/conda/lib/python3.10/site-packages (from pyasn1-modules>=0.2.1->google-auth<3.0.0dev,>=2.14.1->google-cloud-aiplatform) (0.5.0)\n",
      "Requirement already satisfied: charset-normalizer<4,>=2 in /opt/conda/lib/python3.10/site-packages (from requests<3.0.0.dev0,>=2.18.0->google-api-core[grpc]!=2.0.*,!=2.1.*,!=2.2.*,!=2.3.*,!=2.4.*,!=2.5.*,!=2.6.*,!=2.7.*,<3.0.0dev,>=1.34.1->google-cloud-aiplatform) (3.2.0)\n",
      "Requirement already satisfied: idna<4,>=2.5 in /opt/conda/lib/python3.10/site-packages (from requests<3.0.0.dev0,>=2.18.0->google-api-core[grpc]!=2.0.*,!=2.1.*,!=2.2.*,!=2.3.*,!=2.4.*,!=2.5.*,!=2.6.*,!=2.7.*,<3.0.0dev,>=1.34.1->google-cloud-aiplatform) (3.4)\n",
      "Requirement already satisfied: certifi>=2017.4.17 in /opt/conda/lib/python3.10/site-packages (from requests<3.0.0.dev0,>=2.18.0->google-api-core[grpc]!=2.0.*,!=2.1.*,!=2.2.*,!=2.3.*,!=2.4.*,!=2.5.*,!=2.6.*,!=2.7.*,<3.0.0dev,>=1.34.1->google-cloud-aiplatform) (2023.7.22)\n",
      "\u001b[33mWARNING: Ignoring invalid distribution -oogle-api-core (/opt/conda/lib/python3.10/site-packages)\u001b[0m\u001b[33m\n",
      "\u001b[0m"
     ]
    }
   ],
   "source": [
    "!pip3 install --upgrade --user google-cloud-aiplatform"
   ]
  },
  {
   "cell_type": "markdown",
   "metadata": {
    "id": "R5Xep4W9lq-Z"
   },
   "source": [
    "### Restart runtime\n",
    "\n",
    "To use the newly installed packages in this Jupyter runtime, you must restart the runtime. You can do this by running the cell below, which restarts the current kernel.\n",
    "\n",
    "The restart might take a minute or longer. After it's restarted, continue to the next step."
   ]
  },
  {
   "cell_type": "code",
   "execution_count": 3,
   "metadata": {
    "id": "XRvKdaPDTznN",
    "tags": []
   },
   "outputs": [
    {
     "data": {
      "text/plain": [
       "{'status': 'ok', 'restart': True}"
      ]
     },
     "execution_count": 3,
     "metadata": {},
     "output_type": "execute_result"
    }
   ],
   "source": [
    "import IPython\n",
    "\n",
    "app = IPython.Application.instance()\n",
    "app.kernel.do_shutdown(True)"
   ]
  },
  {
   "cell_type": "markdown",
   "metadata": {
    "id": "SbmM4z7FOBpM"
   },
   "source": [
    "<div class=\"alert alert-block alert-warning\">\n",
    "<b>⚠️ The kernel is going to restart. Please wait until it is finished before continuing to the next step. ⚠️</b>\n",
    "</div>\n",
    "\n"
   ]
  },
  {
   "cell_type": "markdown",
   "metadata": {
    "id": "dmWOrTJ3gx13"
   },
   "source": [
    "### Authenticate your notebook environment (Colab only)\n",
    "\n",
    "If you are running this notebook on Google Colab, run the cell below to authenticate your environment."
   ]
  },
  {
   "cell_type": "code",
   "execution_count": 4,
   "metadata": {
    "id": "NyKGtVQjgx13",
    "tags": []
   },
   "outputs": [],
   "source": [
    "import sys\n",
    "\n",
    "if \"google.colab\" in sys.modules:\n",
    "    from google.colab import auth\n",
    "\n",
    "    auth.authenticate_user()"
   ]
  },
  {
   "cell_type": "markdown",
   "metadata": {
    "id": "DF4l8DTdWgPY"
   },
   "source": [
    "### Set Google Cloud project information and initialize Vertex AI SDK\n",
    "\n",
    "To get started using Vertex AI, you must have an existing Google Cloud project and [enable the Vertex AI API](https://console.cloud.google.com/flows/enableapi?apiid=aiplatform.googleapis.com).\n",
    "\n",
    "Learn more about [setting up a project and a development environment](https://cloud.google.com/vertex-ai/docs/start/cloud-environment)."
   ]
  },
  {
   "cell_type": "code",
   "execution_count": 3,
   "metadata": {
    "id": "Nqwi-5ufWp_B",
    "tags": []
   },
   "outputs": [],
   "source": [
    "PROJECT_ID = \"vijay-gcp-demo-project\"  # @param {type:\"string\"}\n",
    "LOCATION = \"us-central1\"  # @param {type:\"string\"}\n",
    "\n",
    "import vertexai\n",
    "\n",
    "vertexai.init(project=PROJECT_ID, location=LOCATION)"
   ]
  },
  {
   "cell_type": "markdown",
   "metadata": {
    "id": "jXHfaVS66_01"
   },
   "source": [
    "## Code Examples\n",
    "\n",
    "### Import libraries"
   ]
  },
  {
   "cell_type": "code",
   "execution_count": 4,
   "metadata": {
    "id": "lslYAvw37JGQ",
    "tags": []
   },
   "outputs": [],
   "source": [
    "import json\n",
    "from vertexai.generative_models import (\n",
    "    FunctionDeclaration,\n",
    "    GenerativeModel,\n",
    "    GenerationConfig,\n",
    "    GenerationResponse,\n",
    "    Tool,\n",
    ")\n",
    "from proto.marshal.collections import repeated\n",
    "from proto.marshal.collections import maps"
   ]
  },
  {
   "cell_type": "markdown",
   "metadata": {
    "id": "Bfy0nopcsJY5"
   },
   "source": [
    "### Initialize model\n",
    "\n",
    "The Gemini 1.0 Pro (`gemini-1.0-pro`) model is designed to handle natural language tasks, multiturn text and code chat, and code generation."
   ]
  },
  {
   "cell_type": "code",
   "execution_count": 5,
   "metadata": {
    "id": "hvQy2EObsJY5"
   },
   "outputs": [],
   "source": [
    "model = GenerativeModel(\n",
    "    \"gemini-1.5-pro-preview-0409\", generation_config=GenerationConfig(temperature=0)\n",
    ")"
   ]
  },
  {
   "cell_type": "code",
   "execution_count": 6,
   "metadata": {
    "cellView": "form",
    "id": "cMsGv0FbsJY6"
   },
   "outputs": [],
   "source": [
    "# @title Helper functions\n",
    "\n",
    "\n",
    "def recurse_proto_repeated_composite(repeated_object):\n",
    "    repeated_list = []\n",
    "    for item in repeated_object:\n",
    "        if isinstance(item, repeated.RepeatedComposite):\n",
    "            item = recurse_proto_repeated_composite(item)\n",
    "            repeated_list.append(item)\n",
    "        elif isinstance(item, maps.MapComposite):\n",
    "            item = recurse_proto_marshal_to_dict(item)\n",
    "            repeated_list.append(item)\n",
    "        else:\n",
    "            repeated_list.append(item)\n",
    "\n",
    "    return repeated_list\n",
    "\n",
    "\n",
    "def recurse_proto_marshal_to_dict(marshal_object):\n",
    "    new_dict = {}\n",
    "    for k, v in marshal_object.items():\n",
    "        if not v:\n",
    "            continue\n",
    "        elif isinstance(v, maps.MapComposite):\n",
    "            v = recurse_proto_marshal_to_dict(v)\n",
    "        elif isinstance(v, repeated.RepeatedComposite):\n",
    "            v = recurse_proto_repeated_composite(v)\n",
    "        new_dict[k] = v\n",
    "\n",
    "    return new_dict\n",
    "\n",
    "\n",
    "def get_text(response: GenerationResponse):\n",
    "    \"\"\"Returns the Text from the Generation Response object.\"\"\"\n",
    "    part = response.candidates[0].content.parts[0]\n",
    "    try:\n",
    "        text = part.text\n",
    "    except:\n",
    "        text = None\n",
    "\n",
    "    return text\n",
    "\n",
    "\n",
    "def get_function_name(response: GenerationResponse):\n",
    "    return response.candidates[0].content.parts[0].function_call.name\n",
    "\n",
    "\n",
    "def get_function_args(response: GenerationResponse) -> dict:\n",
    "    return recurse_proto_marshal_to_dict(\n",
    "        response.candidates[0].content.parts[0].function_call.args\n",
    "    )\n",
    "\n",
    "\n",
    "def pprint(params):\n",
    "    print(json.dumps(params, sort_keys=True, indent=2, separators=(\",\", \": \")))"
   ]
  },
  {
   "cell_type": "markdown",
   "metadata": {
    "id": "j3KHAr6BsJY6"
   },
   "source": [
    "### Example: Single parameter\n",
    "\n",
    "Let's say that you want to extract a location from a prompt to help a user navigate to their desired destination.\n",
    "\n",
    "You can build out a simple schema for a function that takes a single parameter as an input:"
   ]
  },
  {
   "cell_type": "code",
   "execution_count": 7,
   "metadata": {
    "id": "ElbXcrGWsJY6"
   },
   "outputs": [],
   "source": [
    "get_destination = FunctionDeclaration(\n",
    "    name=\"get_destination\",\n",
    "    description=\"Get directions to a destination\",\n",
    "    parameters={\n",
    "        \"type\": \"object\",\n",
    "        \"properties\": {\n",
    "            \"destination\": {\n",
    "                \"type\": \"string\",\n",
    "                \"description\": \"Destination that the user wants to go to\",\n",
    "            },\n",
    "        },\n",
    "    },\n",
    ")\n",
    "\n",
    "destination_tool = Tool(\n",
    "    function_declarations=[get_destination],\n",
    ")"
   ]
  },
  {
   "cell_type": "markdown",
   "metadata": {
    "id": "T_u_cPW7sJY6"
   },
   "source": [
    "Now you can send a prompt with a destination, and the model will return structured data with a single key/value pair:"
   ]
  },
  {
   "cell_type": "code",
   "execution_count": 8,
   "metadata": {
    "id": "aD4UJ6BcsJY6",
    "outputId": "5db50fd0-8a27-4980-d79e-65c593411c4c",
    "scrolled": true
   },
   "outputs": [
    {
     "name": "stdout",
     "output_type": "stream",
     "text": [
      "{\n",
      "  \"destination\": \"Paris\"\n",
      "}\n"
     ]
    }
   ],
   "source": [
    "prompt = \"I'd like to travel to Paris\"\n",
    "\n",
    "response = model.generate_content(\n",
    "    prompt,\n",
    "    tools=[destination_tool],\n",
    ")\n",
    "\n",
    "params = get_function_args(response)\n",
    "pprint(params)"
   ]
  },
  {
   "cell_type": "markdown",
   "metadata": {
    "id": "Q7jimk65sJY7"
   },
   "source": [
    "### Example: Multiple parameters\n",
    "\n",
    "What if you want the function call to return more than one parameter?\n",
    "\n",
    "You can build out a simple schema for a function that takes multiple parameters as an input:"
   ]
  },
  {
   "cell_type": "code",
   "execution_count": 9,
   "metadata": {
    "id": "OTaA258isJY7"
   },
   "outputs": [],
   "source": [
    "get_destination_params = FunctionDeclaration(\n",
    "    name=\"get_destination_params\",\n",
    "    description=\"Get directions to a destination\",\n",
    "    parameters={\n",
    "        \"type\": \"object\",\n",
    "        \"properties\": {\n",
    "            \"destination\": {\n",
    "                \"type\": \"string\",\n",
    "                \"description\": \"Destination that the user wants to go to\",\n",
    "            },\n",
    "            \"mode_of_transportation\": {\n",
    "                \"type\": \"string\",\n",
    "                \"description\": \"Mode of transportation to use\",\n",
    "            },\n",
    "            \"departure_time\": {\n",
    "                \"type\": \"string\",\n",
    "                \"description\": \"Time that the user will leave for the destination\",\n",
    "            },\n",
    "        },\n",
    "    },\n",
    ")\n",
    "\n",
    "destination_tool = Tool(\n",
    "    function_declarations=[get_destination_params],\n",
    ")"
   ]
  },
  {
   "cell_type": "markdown",
   "metadata": {
    "id": "xS-qg3udsJY7"
   },
   "source": [
    "Now you can send a prompt with a destination, and the model will return structured data with a single key/value pair:"
   ]
  },
  {
   "cell_type": "code",
   "execution_count": 10,
   "metadata": {
    "id": "2gm8YuoesJY7",
    "outputId": "edfb9b19-e757-47d8-c882-e9db0d4bd609",
    "scrolled": true
   },
   "outputs": [
    {
     "name": "stdout",
     "output_type": "stream",
     "text": [
      "{\n",
      "  \"departure_time\": \"9:00 am\",\n",
      "  \"destination\": \"Paris\",\n",
      "  \"mode_of_transportation\": \"train\"\n",
      "}\n"
     ]
    }
   ],
   "source": [
    "prompt = \"I'd like to travel to Paris by train and leave at 9:00 am\"\n",
    "\n",
    "response = model.generate_content(\n",
    "    prompt,\n",
    "    tools=[destination_tool],\n",
    ")\n",
    "\n",
    "params = get_function_args(response)\n",
    "pprint(params)"
   ]
  },
  {
   "cell_type": "markdown",
   "metadata": {
    "id": "y-ZP3TKrsJY7"
   },
   "source": [
    "### Example: Lists of parameters\n",
    "\n",
    "What if you want the function call to return an array or list of parameters within an object?\n",
    "\n",
    "For example, you might want to call an API to get the geocoded coordinates of several different locations within a single prompt.\n",
    "\n",
    "In that case, you can build out a schema for a function that takes an array as an input:"
   ]
  },
  {
   "cell_type": "code",
   "execution_count": 11,
   "metadata": {
    "id": "jGMeCeftsJY7"
   },
   "outputs": [],
   "source": [
    "get_multiple_location_coordinates = FunctionDeclaration(\n",
    "    name=\"get_location_coordinates\",\n",
    "    description=\"Get coordinates of multiple locations\",\n",
    "    parameters={\n",
    "        \"type\": \"object\",\n",
    "        \"properties\": {\n",
    "            \"locations\": {\n",
    "                \"type\": \"array\",\n",
    "                \"description\": \"A list of locations\",\n",
    "                \"items\": {\n",
    "                    \"description\": \"Components of the location\",\n",
    "                    \"type\": \"object\",\n",
    "                    \"properties\": {\n",
    "                        \"point of interest\": {\n",
    "                            \"type\": \"string\",\n",
    "                            \"description\": \"Name or type of point of interest\",\n",
    "                        },\n",
    "                        \"city\": {\"type\": \"string\", \"description\": \"City\"},\n",
    "                        \"country\": {\"type\": \"string\", \"description\": \"Country\"},\n",
    "                    },\n",
    "                    \"required\": [\n",
    "                        \"point of interest\",\n",
    "                        \"city\",\n",
    "                        \"country\",\n",
    "                    ],\n",
    "                },\n",
    "            }\n",
    "        },\n",
    "    },\n",
    ")\n",
    "\n",
    "geocoding_tool = Tool(\n",
    "    function_declarations=[get_multiple_location_coordinates],\n",
    ")"
   ]
  },
  {
   "cell_type": "markdown",
   "metadata": {
    "id": "p2X7KXuYsJY8"
   },
   "source": [
    "Now we'll send a prompt with a few different locations and points of interest:"
   ]
  },
  {
   "cell_type": "code",
   "execution_count": 18,
   "metadata": {
    "id": "8YtBm7-XsJY8",
    "outputId": "15d33e37-e3d9-4016-a105-6c65382923f2",
    "scrolled": true
   },
   "outputs": [
    {
     "name": "stdout",
     "output_type": "stream",
     "text": [
      "candidates {\n",
      "  content {\n",
      "    role: \"model\"\n",
      "    parts {\n",
      "      function_call {\n",
      "        name: \"get_location_coordinates\"\n",
      "        args {\n",
      "          fields {\n",
      "            key: \"locations\"\n",
      "            value {\n",
      "              list_value {\n",
      "                values {\n",
      "                  struct_value {\n",
      "                    fields {\n",
      "                      key: \"city\"\n",
      "                      value {\n",
      "                        string_value: \"Paris\"\n",
      "                      }\n",
      "                    }\n",
      "                    fields {\n",
      "                      key: \"country\"\n",
      "                      value {\n",
      "                        string_value: \"France\"\n",
      "                      }\n",
      "                    }\n",
      "                    fields {\n",
      "                      key: \"point_of_interest\"\n",
      "                      value {\n",
      "                        string_value: \"Eiffel Tower\"\n",
      "                      }\n",
      "                    }\n",
      "                  }\n",
      "                }\n",
      "                values {\n",
      "                  struct_value {\n",
      "                    fields {\n",
      "                      key: \"city\"\n",
      "                      value {\n",
      "                        string_value: \"New York\"\n",
      "                      }\n",
      "                    }\n",
      "                    fields {\n",
      "                      key: \"country\"\n",
      "                      value {\n",
      "                        string_value: \"USA\"\n",
      "                      }\n",
      "                    }\n",
      "                    fields {\n",
      "                      key: \"point_of_interest\"\n",
      "                      value {\n",
      "                        string_value: \"Statue of Liberty\"\n",
      "                      }\n",
      "                    }\n",
      "                  }\n",
      "                }\n",
      "                values {\n",
      "                  struct_value {\n",
      "                    fields {\n",
      "                      key: \"city\"\n",
      "                      value {\n",
      "                        string_value: \"Port Douglas\"\n",
      "                      }\n",
      "                    }\n",
      "                    fields {\n",
      "                      key: \"country\"\n",
      "                      value {\n",
      "                        string_value: \"Australia\"\n",
      "                      }\n",
      "                    }\n",
      "                    fields {\n",
      "                      key: \"point_of_interest\"\n",
      "                      value {\n",
      "                        string_value: \"Great Barrier Reef\"\n",
      "                      }\n",
      "                    }\n",
      "                  }\n",
      "                }\n",
      "              }\n",
      "            }\n",
      "          }\n",
      "        }\n",
      "      }\n",
      "    }\n",
      "  }\n",
      "  finish_reason: STOP\n",
      "  safety_ratings {\n",
      "    category: HARM_CATEGORY_HATE_SPEECH\n",
      "    probability: NEGLIGIBLE\n",
      "    probability_score: 0.08344117552042007\n",
      "    severity: HARM_SEVERITY_NEGLIGIBLE\n",
      "    severity_score: 0.10105590522289276\n",
      "  }\n",
      "  safety_ratings {\n",
      "    category: HARM_CATEGORY_DANGEROUS_CONTENT\n",
      "    probability: NEGLIGIBLE\n",
      "    probability_score: 0.35611072182655334\n",
      "    severity: HARM_SEVERITY_LOW\n",
      "    severity_score: 0.2859697937965393\n",
      "  }\n",
      "  safety_ratings {\n",
      "    category: HARM_CATEGORY_HARASSMENT\n",
      "    probability: NEGLIGIBLE\n",
      "    probability_score: 0.13117322325706482\n",
      "    severity: HARM_SEVERITY_NEGLIGIBLE\n",
      "    severity_score: 0.07250525057315826\n",
      "  }\n",
      "  safety_ratings {\n",
      "    category: HARM_CATEGORY_SEXUALLY_EXPLICIT\n",
      "    probability: NEGLIGIBLE\n",
      "    probability_score: 0.09501305222511292\n",
      "    severity: HARM_SEVERITY_NEGLIGIBLE\n",
      "    severity_score: 0.04724971577525139\n",
      "  }\n",
      "}\n",
      "usage_metadata {\n",
      "  prompt_token_count: 79\n",
      "  candidates_token_count: 44\n",
      "  total_token_count: 123\n",
      "}\n",
      "\n",
      "{\n",
      "  \"locations\": [\n",
      "    {\n",
      "      \"city\": \"Paris\",\n",
      "      \"country\": \"France\",\n",
      "      \"point_of_interest\": \"Eiffel Tower\"\n",
      "    },\n",
      "    {\n",
      "      \"city\": \"New York\",\n",
      "      \"country\": \"USA\",\n",
      "      \"point_of_interest\": \"Statue of Liberty\"\n",
      "    },\n",
      "    {\n",
      "      \"city\": \"Port Douglas\",\n",
      "      \"country\": \"Australia\",\n",
      "      \"point_of_interest\": \"Great Barrier Reef\"\n",
      "    }\n",
      "  ]\n",
      "}\n"
     ]
    }
   ],
   "source": [
    "prompt = \"\"\"\n",
    "    I'd like to get the coordinates for\n",
    "    the Eiffel tower in Paris,\n",
    "    the statue of liberty in New York,\n",
    "    and Port Douglas near the Great Barrier Reef.\n",
    "\"\"\"\n",
    "\n",
    "response = model.generate_content(\n",
    "    prompt,\n",
    "    tools=[geocoding_tool],\n",
    ")\n",
    "print(response)\n",
    "params = get_function_args(response)\n",
    "pprint(params)"
   ]
  },
  {
   "cell_type": "markdown",
   "metadata": {
    "id": "D8giW_8OsJY8"
   },
   "source": [
    "Note that the generative model populated values for all of the parameters for a given location since all three parameters are required."
   ]
  },
  {
   "cell_type": "markdown",
   "metadata": {
    "id": "jEHIc8x6sJY8"
   },
   "source": [
    "### Example: Nested parameters and data structures\n",
    "\n",
    "What if you want the function call to include nested parameters or other complex data structures?\n",
    "\n",
    "You might want to send a command to create a product listing based on a few sentences that include the product details.\n",
    "\n",
    "In that case, you can build out a schema for a function that takes nested data structures as an input:"
   ]
  },
  {
   "cell_type": "code",
   "execution_count": 23,
   "metadata": {
    "id": "27PuX0-fsJY8"
   },
   "outputs": [],
   "source": [
    "create_product_listing = FunctionDeclaration(\n",
    "    name=\"create_product_listing\",\n",
    "    description=\"Create a product listing using the details provided by the user\",\n",
    "    parameters={\n",
    "        \"type\": \"object\",\n",
    "        \"properties\": {\n",
    "            \"product\": {\n",
    "                \"type\": \"array\",\n",
    "                \"description\": \"Product name, price and other details for listing\",\n",
    "                \"properties\": {\n",
    "                    \"name\": {\"type\": \"string\"},\n",
    "                    \"brand\": {\"type\": \"string\"},\n",
    "                    \"price\": {\"type\": \"number\"},\n",
    "                    \"category\": {\"type\": \"string\"},\n",
    "                    \"description\": {\"type\": \"string\"},\n",
    "                    \"colors\": {\n",
    "                        \"type\": \"array\",\n",
    "                        \"properties\": {\n",
    "                            \"color\": {\"type\": \"number\"},\n",
    "                        },\n",
    "                    },\n",
    "                },\n",
    "            }\n",
    "        },\n",
    "    },\n",
    ")\n",
    "\n",
    "location_tool = Tool(\n",
    "    function_declarations=[create_product_listing],\n",
    ")"
   ]
  },
  {
   "cell_type": "markdown",
   "metadata": {
    "id": "k8sKF69fsJY8"
   },
   "source": [
    "Now we'll send a prompt with a few different locations and attributes:"
   ]
  },
  {
   "cell_type": "code",
   "execution_count": 25,
   "metadata": {
    "id": "Pt-i-srosJY8",
    "outputId": "d3184726-723f-40d8-d9a2-7a5ef391dff0",
    "scrolled": true
   },
   "outputs": [
    {
     "name": "stdout",
     "output_type": "stream",
     "text": [
      "{\n",
      "  \"product\": \"unknown\"\n",
      "}\n"
     ]
    }
   ],
   "source": [
    "prompt = \"\"\"Create a listing for the product\n",
    "noise-canceling headphones for price $149.99. These headphones create a distraction-free environment.Available colors include black, white, and red.\"\"\"\n",
    "\n",
    "\n",
    "\n",
    "\n",
    "\n",
    "response = model.generate_content(\n",
    "    prompt,\n",
    "    tools=[location_tool],\n",
    ")\n",
    "\n",
    "# response\n",
    "params = get_function_args(response)\n",
    "pprint(params)"
   ]
  },
  {
   "cell_type": "markdown",
   "metadata": {
    "id": "GpDvGrmtsJY8"
   },
   "source": [
    "And you're done! You successfully generated various types of data structures, including a single parameter, multiple parameters, a list of parameters, and nested parameters. Try another notebook to continue exploring other functionality in the Gemini API!"
   ]
  }
 ],
 "metadata": {
  "colab": {
   "provenance": [],
   "toc_visible": true
  },
  "environment": {
   "kernel": "conda-root-py",
   "name": "workbench-notebooks.m111",
   "type": "gcloud",
   "uri": "gcr.io/deeplearning-platform-release/workbench-notebooks:m111"
  },
  "kernelspec": {
   "display_name": "Python 3",
   "language": "python",
   "name": "conda-root-py"
  },
  "language_info": {
   "codemirror_mode": {
    "name": "ipython",
    "version": 3
   },
   "file_extension": ".py",
   "mimetype": "text/x-python",
   "name": "python",
   "nbconvert_exporter": "python",
   "pygments_lexer": "ipython3",
   "version": "3.10.12"
  }
 },
 "nbformat": 4,
 "nbformat_minor": 4
}
